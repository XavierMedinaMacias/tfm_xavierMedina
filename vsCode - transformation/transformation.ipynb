{
 "cells": [
  {
   "cell_type": "markdown",
   "metadata": {},
   "source": [
    "### CARGA DE DATASET ###\n",
    "\n",
    "\n"
   ]
  },
  {
   "cell_type": "code",
   "execution_count": 98,
   "metadata": {},
   "outputs": [
    {
     "name": "stdout",
     "output_type": "stream",
     "text": [
      "          Id NombreEstacion  longitud2  latitud2  altitud  anio    ene    feb  \\\n",
      "0          1     PORTOVIEJO   -804.596   -10.376     3140  1964    NaN   81,9   \n",
      "1          2     PORTOVIEJO   -804.596   -10.376     3140  1977    NaN    NaN   \n",
      "2          3     PORTOVIEJO   -804.596   -10.376     3140  1978   98,1  161,5   \n",
      "3          4     PORTOVIEJO   -804.596   -10.376     3140  1979   71,2   83,2   \n",
      "4          5     PORTOVIEJO   -804.596   -10.376     3140  1980  181,9  319,6   \n",
      "...      ...            ...        ...       ...      ...   ...    ...    ...   \n",
      "20583  20584     PORTOVIEJO   -804.596   -10.376     1955  2016   51,4    0,4   \n",
      "20584  20585     PORTOVIEJO   -804.596   -10.376       21  2015    NaN    NaN   \n",
      "20585  20586     PORTOVIEJO   -804.596   -10.376       21  2016  329,6  172,7   \n",
      "20586  20587     PORTOVIEJO   -804.596   -10.376     2886  2017    NaN    NaN   \n",
      "20587  20588     PORTOVIEJO   -804.596   -10.376     3427  2001  350,9   60,4   \n",
      "\n",
      "         mar    abr    may   jun   jul    ago    sep    oct    nov    dic  \n",
      "0        NaN    NaN    NaN   NaN   NaN    NaN    NaN    NaN    NaN    NaN  \n",
      "1        NaN    NaN    NaN    61   1,9   44,1  120,9  179,8   96,2  165,9  \n",
      "2      107,7  196,6  115,6  12,4  37,1   17,6  131,6   62,6  107,5  133,4  \n",
      "3      307,1    139  252,8  40,5   5,9  104,8  182,1     89   57,1   27,1  \n",
      "4      101,1  227,6     27  39,3   2,9   36,8   28,3  137,5  120,6    183  \n",
      "...      ...    ...    ...   ...   ...    ...    ...    ...    ...    ...  \n",
      "20583   31,9   72,8   40,9  22,2   1,5    1,2   11,4   30,5   46,4   34,6  \n",
      "20584    NaN    NaN    NaN   NaN   NaN    NaN    NaN    NaN    NaN    5,7  \n",
      "20585  358,2  153,3    0,3     0   NaN    NaN    NaN    NaN    NaN    NaN  \n",
      "20586    NaN    NaN    NaN   NaN   NaN    NaN    NaN    139   66,2   92,6  \n",
      "20587    NaN   63,1   31,4   1,8   NaN    0,5    7,3    3,4    NaN    NaN  \n",
      "\n",
      "[20588 rows x 18 columns]\n"
     ]
    }
   ],
   "source": [
    "import pandas as pd\n",
    "df_precipitaciones = pd.read_csv(r\"C:\\Users\\pc\\Documents\\GitHub\\tfm_xavierMedina\\spark - session\\part-00000-92040b75-aff7-46ae-b446-40e8ee67aba2-c000.csv\", delimiter=\";\")\n",
    "print(df_precipitaciones)\n"
   ]
  },
  {
   "cell_type": "code",
   "execution_count": 99,
   "metadata": {},
   "outputs": [
    {
     "name": "stdout",
     "output_type": "stream",
     "text": [
      "        Id NombreEstacion longitud2 latitud2  altitud  anio   ene   feb   mar  \\\n",
      "0        1     PORTOVIEJO  -80,4596  -1,0376     3140  1978    10  10,8  10,2   \n",
      "1        2     PORTOVIEJO  -80,4596  -1,0376     3140  1979  10,3  10,3  10,3   \n",
      "2        3     PORTOVIEJO  -80,4596  -1,0376     3140  1980  10,6    10  10,4   \n",
      "3        4     PORTOVIEJO  -80,4596  -1,0376     3140  1981  10,3  10,5  10,5   \n",
      "4        5     PORTOVIEJO  -80,4596  -1,0376     3140  1982   9,9  10,4  10,3   \n",
      "...    ...            ...       ...      ...      ...   ...   ...   ...   ...   \n",
      "6493  6494     PORTOVIEJO  -80,4596  -1,0376     1955  2016  19,1    20  19,5   \n",
      "6494  6495     PORTOVIEJO  -80,4596  -1,0376       21  2015   NaN   NaN   NaN   \n",
      "6495  6496     PORTOVIEJO  -80,4596  -1,0376       21  2016  27,3  27,6  27,8   \n",
      "6496  6497     PORTOVIEJO  -80,4596  -1,0376     2886  2017   NaN   NaN   NaN   \n",
      "6497  6498     PORTOVIEJO  -80,4596  -1,0376     3427  2001  23,3   NaN   NaN   \n",
      "\n",
      "       abr   may   jun   jul   ago   sep   oct   nov   dic  \n",
      "0     10,3  10,2   9,5   9,2   9,3   9,7   9,6  11,3  10,2  \n",
      "1     10,4  10,3    10   9,6   9,5  10,2  10,3  10,3  10,3  \n",
      "2     10,5  10,5  10,1   9,7   9,6  10,4  10,3  10,4  10,3  \n",
      "3     10,6  10,3   9,9   9,3   9,7    10  10,5  10,1  10,3  \n",
      "4     10,4  10,4  10,2   9,4   9,5  10,1    10  10,7  10,7  \n",
      "...    ...   ...   ...   ...   ...   ...   ...   ...   ...  \n",
      "6493  19,5  20,1  19,2  19,2  20,4  19,7    19  18,6  18,1  \n",
      "6494   NaN   NaN   NaN   NaN   NaN   NaN   NaN   NaN  28,4  \n",
      "6495  27,6  28,5  27,4   NaN   NaN   NaN   NaN   NaN   NaN  \n",
      "6496   NaN   NaN   NaN   NaN   NaN   NaN  14,3  13,5  13,9  \n",
      "6497  24,4  23,5  23,3   NaN  23,8    23  23,6   NaN   NaN  \n",
      "\n",
      "[6498 rows x 18 columns]\n"
     ]
    }
   ],
   "source": [
    "df_precipitaciones = pd.read_csv(r\"C:\\Users\\pc\\Documents\\GitHub\\tfm_xavierMedina\\spark - session\\part-00000-e4e2084c-f4d5-4a7e-8cd7-77b7f8c6ffe8-c000.csv\", delimiter=\";\")\n",
    "print(df_precipitaciones)"
   ]
  },
  {
   "cell_type": "markdown",
   "metadata": {},
   "source": [
    "### IDENTIFICACION DE VALORES NULOS ###"
   ]
  },
  {
   "cell_type": "code",
   "execution_count": 100,
   "metadata": {},
   "outputs": [
    {
     "data": {
      "text/plain": [
       "Id                   0\n",
       "NombreEstacion       0\n",
       "longitud2            0\n",
       "latitud2             0\n",
       "altitud              0\n",
       "anio                 0\n",
       "ene                695\n",
       "feb                785\n",
       "mar                748\n",
       "abr                759\n",
       "may                716\n",
       "jun                801\n",
       "jul                831\n",
       "ago                896\n",
       "sep                936\n",
       "oct                984\n",
       "nov               1041\n",
       "dic               1065\n",
       "dtype: int64"
      ]
     },
     "execution_count": 100,
     "metadata": {},
     "output_type": "execute_result"
    }
   ],
   "source": [
    "# EJEMPLO: Contar valores perdidos\n",
    "df_precipitaciones.isnull().sum()\n"
   ]
  },
  {
   "cell_type": "code",
   "execution_count": 101,
   "metadata": {},
   "outputs": [
    {
     "data": {
      "text/plain": [
       "Id                0\n",
       "NombreEstacion    0\n",
       "longitud2         0\n",
       "latitud2          0\n",
       "altitud           0\n",
       "anio              0\n",
       "ene               0\n",
       "feb               0\n",
       "mar               0\n",
       "abr               0\n",
       "may               0\n",
       "jun               0\n",
       "jul               0\n",
       "ago               0\n",
       "sep               0\n",
       "oct               0\n",
       "nov               0\n",
       "dic               0\n",
       "dtype: int64"
      ]
     },
     "execution_count": 101,
     "metadata": {},
     "output_type": "execute_result"
    }
   ],
   "source": [
    "df_temperatura.isnull().sum()"
   ]
  },
  {
   "cell_type": "markdown",
   "metadata": {},
   "source": [
    "### COMPLETAR VALORES NULOS ###"
   ]
  },
  {
   "cell_type": "code",
   "execution_count": 102,
   "metadata": {},
   "outputs": [
    {
     "name": "stderr",
     "output_type": "stream",
     "text": [
      "C:\\Users\\pc\\AppData\\Local\\Temp\\ipykernel_30064\\1504018092.py:2: FutureWarning: DataFrame.fillna with 'method' is deprecated and will raise in a future version. Use obj.ffill() or obj.bfill() instead.\n",
      "  df_precipitaciones.fillna(method='ffill', inplace=True)\n"
     ]
    },
    {
     "data": {
      "text/plain": [
       "Id                False\n",
       "NombreEstacion    False\n",
       "longitud2         False\n",
       "latitud2          False\n",
       "altitud           False\n",
       "anio              False\n",
       "ene               False\n",
       "feb               False\n",
       "mar               False\n",
       "abr               False\n",
       "may               False\n",
       "jun               False\n",
       "jul               False\n",
       "ago               False\n",
       "sep               False\n",
       "oct               False\n",
       "nov               False\n",
       "dic               False\n",
       "dtype: bool"
      ]
     },
     "execution_count": 102,
     "metadata": {},
     "output_type": "execute_result"
    }
   ],
   "source": [
    "# EJEMPLO: Completar valores perdidos con método ffill\n",
    "df_precipitaciones.fillna(method='ffill', inplace=True)\n",
    "pd.isnull(df_precipitaciones).any()"
   ]
  },
  {
   "cell_type": "code",
   "execution_count": 103,
   "metadata": {},
   "outputs": [
    {
     "name": "stderr",
     "output_type": "stream",
     "text": [
      "C:\\Users\\pc\\AppData\\Local\\Temp\\ipykernel_30064\\1470193777.py:2: FutureWarning: DataFrame.fillna with 'method' is deprecated and will raise in a future version. Use obj.ffill() or obj.bfill() instead.\n",
      "  df_temperatura.fillna(method='ffill', inplace=True)\n"
     ]
    },
    {
     "data": {
      "text/plain": [
       "Id                False\n",
       "NombreEstacion    False\n",
       "longitud2         False\n",
       "latitud2          False\n",
       "altitud           False\n",
       "anio              False\n",
       "ene               False\n",
       "feb               False\n",
       "mar               False\n",
       "abr               False\n",
       "may               False\n",
       "jun               False\n",
       "jul               False\n",
       "ago               False\n",
       "sep               False\n",
       "oct               False\n",
       "nov               False\n",
       "dic               False\n",
       "dtype: bool"
      ]
     },
     "execution_count": 103,
     "metadata": {},
     "output_type": "execute_result"
    }
   ],
   "source": [
    "# EJEMPLO: Completar valores perdidos con método ffill\n",
    "df_temperatura.fillna(method='ffill', inplace=True)\n",
    "pd.isnull(df_temperatura).any()"
   ]
  },
  {
   "cell_type": "markdown",
   "metadata": {},
   "source": [
    "### VERIFICACION DE SI EXISTEN VALORES NULOS NUEVAMENTE ###"
   ]
  },
  {
   "cell_type": "code",
   "execution_count": 104,
   "metadata": {},
   "outputs": [
    {
     "data": {
      "text/plain": [
       "Id                0\n",
       "NombreEstacion    0\n",
       "longitud2         0\n",
       "latitud2          0\n",
       "altitud           0\n",
       "anio              0\n",
       "ene               0\n",
       "feb               0\n",
       "mar               0\n",
       "abr               0\n",
       "may               0\n",
       "jun               0\n",
       "jul               0\n",
       "ago               0\n",
       "sep               0\n",
       "oct               0\n",
       "nov               0\n",
       "dic               0\n",
       "dtype: int64"
      ]
     },
     "execution_count": 104,
     "metadata": {},
     "output_type": "execute_result"
    }
   ],
   "source": [
    "\n",
    "# EJEMPLO: Contar valores perdidos\n",
    "df_precipitaciones.isnull().sum()"
   ]
  },
  {
   "cell_type": "code",
   "execution_count": 106,
   "metadata": {},
   "outputs": [
    {
     "data": {
      "text/plain": [
       "Id                0\n",
       "NombreEstacion    0\n",
       "longitud2         0\n",
       "latitud2          0\n",
       "altitud           0\n",
       "anio              0\n",
       "ene               0\n",
       "feb               0\n",
       "mar               0\n",
       "abr               0\n",
       "may               0\n",
       "jun               0\n",
       "jul               0\n",
       "ago               0\n",
       "sep               0\n",
       "oct               0\n",
       "nov               0\n",
       "dic               0\n",
       "dtype: int64"
      ]
     },
     "execution_count": 106,
     "metadata": {},
     "output_type": "execute_result"
    }
   ],
   "source": [
    "# EJEMPLO: Contar valores perdidos\n",
    "df_temperatura.isnull().sum()"
   ]
  },
  {
   "cell_type": "code",
   "execution_count": null,
   "metadata": {},
   "outputs": [],
   "source": []
  }
 ],
 "metadata": {
  "kernelspec": {
   "display_name": "Python 3",
   "language": "python",
   "name": "python3"
  },
  "language_info": {
   "codemirror_mode": {
    "name": "ipython",
    "version": 3
   },
   "file_extension": ".py",
   "mimetype": "text/x-python",
   "name": "python",
   "nbconvert_exporter": "python",
   "pygments_lexer": "ipython3",
   "version": "3.11.9"
  }
 },
 "nbformat": 4,
 "nbformat_minor": 2
}
