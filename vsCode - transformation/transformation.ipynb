{
 "cells": [
  {
   "cell_type": "markdown",
   "metadata": {},
   "source": [
    "### CARGA DE DATASET ###\n",
    "\n",
    "\n"
   ]
  },
  {
   "cell_type": "code",
   "execution_count": 93,
   "metadata": {},
   "outputs": [
    {
     "name": "stdout",
     "output_type": "stream",
     "text": [
      "          Id NombreEstacion           Estacion  longitud2  latitud2  altitud  \\\n",
      "0          1     PORTOVIEJO             Picoza   -804.601   -10.382     3140   \n",
      "1          2     PORTOVIEJO             Picoza   -804.601   -10.382     3140   \n",
      "2          3     PORTOVIEJO        12 de Marzo   -804.597   -10.379     3140   \n",
      "3          4     PORTOVIEJO          San Pablo   -804.604   -10.385     3140   \n",
      "4          5     PORTOVIEJO  Francisco Pacheco   -804.600   -10.381     3140   \n",
      "...      ...            ...                ...        ...       ...      ...   \n",
      "20583  20584     PORTOVIEJO        12 de Marzo   -804.597   -10.379     1955   \n",
      "20584  20585     PORTOVIEJO      18 de Octubre   -804.599   -10.377       21   \n",
      "20585  20586     PORTOVIEJO  Francisco Pacheco   -804.600   -10.376       21   \n",
      "20586  20587     PORTOVIEJO  Francisco Pacheco   -804.600   -10.376     2886   \n",
      "20587  20588     PORTOVIEJO  Francisco Pacheco   -804.600   -10.376     3427   \n",
      "\n",
      "       anio precipitaciones Dia precipitaciones Noche temperatura Dia  \\\n",
      "0      1964               181,9                 319,6              29   \n",
      "1      1977               102,8                  96,8              18   \n",
      "2      1978                98,1                 161,5              21   \n",
      "3      1979                71,2                  83,2              17   \n",
      "4      1980               181,9                 319,6              29   \n",
      "...     ...                 ...                   ...             ...   \n",
      "20583  2016                51,4                   0,4              19   \n",
      "20584  2015                 NaN                   NaN              20   \n",
      "20585  2016               329,6                 172,7              33   \n",
      "20586  2017                 NaN                   NaN              18   \n",
      "20587  2001               350,9                  60,4              29   \n",
      "\n",
      "       temperatura Noche  H. del Suelo Dia  H. del Suelo Noche  \\\n",
      "0                     16                 0                   0   \n",
      "1                     24                26                  37   \n",
      "2                     17                12                  25   \n",
      "3                     17                20                  28   \n",
      "4                     20                20                  29   \n",
      "...                  ...               ...                 ...   \n",
      "20583                 20                26                  37   \n",
      "20584                 19                15                  47   \n",
      "20585                 19                27                  45   \n",
      "20586                 23                24                  53   \n",
      "20587                 16                12                  29   \n",
      "\n",
      "      Evapotranspiracion Dia Evapotranspiracion Noche  \\\n",
      "0                        NaN                      NaN   \n",
      "1                        1,9                     44,1   \n",
      "2                       37,1                     17,6   \n",
      "3                        5,9                    104,8   \n",
      "4                        2,9                     36,8   \n",
      "...                      ...                      ...   \n",
      "20583                    1,5                      1,2   \n",
      "20584                    NaN                      NaN   \n",
      "20585                    NaN                      NaN   \n",
      "20586                    NaN                      NaN   \n",
      "20587                    NaN                      0,5   \n",
      "\n",
      "      Velocidad del Viento Dia Velocidad del Viento Noche radiacion Solar  \n",
      "0                          NaN                        NaN             5,8  \n",
      "1                        120,9                      179,8             5,8  \n",
      "2                        131,6                       62,6             5,7  \n",
      "3                        182,1                         89             5,5  \n",
      "4                         28,3                      137,5               6  \n",
      "...                        ...                        ...             ...  \n",
      "20583                     11,4                       30,5               6  \n",
      "20584                      NaN                        NaN             5,7  \n",
      "20585                      NaN                        NaN             5,8  \n",
      "20586                      NaN                        139             5,9  \n",
      "20587                      7,3                        3,4             6,1  \n",
      "\n",
      "[20588 rows x 18 columns]\n"
     ]
    }
   ],
   "source": [
    "import pandas as pd\n",
    "df = pd.read_csv(r\"C:\\Users\\pc\\Documents\\GitHub\\tfm_xavierMedina\\spark\\out\\part-00000-dfcb5cb4-93ce-4c81-bc3a-d35d1eed30ac-c000.csv\", delimiter=\";\")\n",
    "print(df)\n"
   ]
  },
  {
   "cell_type": "markdown",
   "metadata": {},
   "source": [
    "### IDENTIFICACION DE VALORES NULOS ###"
   ]
  },
  {
   "cell_type": "code",
   "execution_count": 94,
   "metadata": {},
   "outputs": [
    {
     "data": {
      "text/plain": [
       "Id                               0\n",
       "NombreEstacion                   0\n",
       "Estacion                         0\n",
       "longitud2                        0\n",
       "latitud2                         0\n",
       "altitud                          0\n",
       "anio                             0\n",
       "precipitaciones Dia           2274\n",
       "precipitaciones Noche         2376\n",
       "temperatura Dia                121\n",
       "temperatura Noche                0\n",
       "H. del Suelo Dia                 0\n",
       "H. del Suelo Noche               0\n",
       "Evapotranspiracion Dia        2487\n",
       "Evapotranspiracion Noche      2461\n",
       "Velocidad del Viento Dia      2506\n",
       "Velocidad del Viento Noche    2476\n",
       "radiacion Solar                  1\n",
       "dtype: int64"
      ]
     },
     "execution_count": 94,
     "metadata": {},
     "output_type": "execute_result"
    }
   ],
   "source": [
    "# EJEMPLO: Contar valores perdidos\n",
    "df.isnull().sum()\n"
   ]
  },
  {
   "cell_type": "markdown",
   "metadata": {},
   "source": [
    "### COMPLETAR VALORES NULOS ###"
   ]
  },
  {
   "cell_type": "code",
   "execution_count": 95,
   "metadata": {},
   "outputs": [
    {
     "name": "stderr",
     "output_type": "stream",
     "text": [
      "C:\\Users\\pc\\AppData\\Local\\Temp\\ipykernel_28716\\1246043208.py:2: FutureWarning: DataFrame.fillna with 'method' is deprecated and will raise in a future version. Use obj.ffill() or obj.bfill() instead.\n",
      "  df.fillna(method='ffill', inplace=True)\n"
     ]
    },
    {
     "data": {
      "text/plain": [
       "Id                            False\n",
       "NombreEstacion                False\n",
       "Estacion                      False\n",
       "longitud2                     False\n",
       "latitud2                      False\n",
       "altitud                       False\n",
       "anio                          False\n",
       "precipitaciones Dia           False\n",
       "precipitaciones Noche         False\n",
       "temperatura Dia               False\n",
       "temperatura Noche             False\n",
       "H. del Suelo Dia              False\n",
       "H. del Suelo Noche            False\n",
       "Evapotranspiracion Dia         True\n",
       "Evapotranspiracion Noche       True\n",
       "Velocidad del Viento Dia       True\n",
       "Velocidad del Viento Noche     True\n",
       "radiacion Solar               False\n",
       "dtype: bool"
      ]
     },
     "execution_count": 95,
     "metadata": {},
     "output_type": "execute_result"
    }
   ],
   "source": [
    "# EJEMPLO: Completar valores perdidos con método ffill\n",
    "df.fillna(method='ffill', inplace=True)\n",
    "pd.isnull(df).any()"
   ]
  },
  {
   "cell_type": "markdown",
   "metadata": {},
   "source": [
    "### VERIFICACION DE SI EXISTEN VALORES NULOS NUEVAMENTE ###"
   ]
  },
  {
   "cell_type": "code",
   "execution_count": 96,
   "metadata": {},
   "outputs": [
    {
     "data": {
      "text/plain": [
       "Id                            0\n",
       "NombreEstacion                0\n",
       "Estacion                      0\n",
       "longitud2                     0\n",
       "latitud2                      0\n",
       "altitud                       0\n",
       "anio                          0\n",
       "precipitaciones Dia           0\n",
       "precipitaciones Noche         0\n",
       "temperatura Dia               0\n",
       "temperatura Noche             0\n",
       "H. del Suelo Dia              0\n",
       "H. del Suelo Noche            0\n",
       "Evapotranspiracion Dia        1\n",
       "Evapotranspiracion Noche      1\n",
       "Velocidad del Viento Dia      1\n",
       "Velocidad del Viento Noche    1\n",
       "radiacion Solar               0\n",
       "dtype: int64"
      ]
     },
     "execution_count": 96,
     "metadata": {},
     "output_type": "execute_result"
    }
   ],
   "source": [
    "\n",
    "# EJEMPLO: Contar valores perdidos\n",
    "df.isnull().sum()"
   ]
  },
  {
   "cell_type": "code",
   "execution_count": 97,
   "metadata": {},
   "outputs": [
    {
     "name": "stdout",
     "output_type": "stream",
     "text": [
      "Filas con al menos un valor nulo: 0\n"
     ]
    }
   ],
   "source": [
    "# Elimina todas las filas que tienen al menos un valor nulo\n",
    "df = df.dropna()\n",
    "\n",
    "print(\"Filas con al menos un valor nulo:\", df.isnull().any(axis=1).sum())\n"
   ]
  },
  {
   "cell_type": "markdown",
   "metadata": {},
   "source": [
    "# ELIMINAR VARIABLES NO DETERMINANTES"
   ]
  },
  {
   "cell_type": "code",
   "execution_count": 98,
   "metadata": {},
   "outputs": [],
   "source": [
    "# EJEMPLO: Eliminar variable Provincia por ser de tipo cadena de texto sin formato\n",
    "df.drop(\"NombreEstacion\", axis = 1, inplace = True)"
   ]
  },
  {
   "cell_type": "markdown",
   "metadata": {},
   "source": [
    "### TRANSFORMAR VARIABLES CATEGORICAS\n"
   ]
  },
  {
   "cell_type": "code",
   "execution_count": 99,
   "metadata": {},
   "outputs": [
    {
     "name": "stdout",
     "output_type": "stream",
     "text": [
      "          Id  Estacion  longitud2  latitud2  altitud  anio  \\\n",
      "1          2         5   -804.601   -10.382     3140  1977   \n",
      "2          3         0   -804.597   -10.379     3140  1978   \n",
      "3          4         7   -804.604   -10.385     3140  1979   \n",
      "4          5         4   -804.600   -10.381     3140  1980   \n",
      "5          6         2   -804.596   -10.378     3140  1981   \n",
      "...      ...       ...        ...       ...      ...   ...   \n",
      "20583  20584         0   -804.597   -10.379     1955  2016   \n",
      "20584  20585         1   -804.599   -10.377       21  2015   \n",
      "20585  20586         4   -804.600   -10.376       21  2016   \n",
      "20586  20587         4   -804.600   -10.376     2886  2017   \n",
      "20587  20588         4   -804.600   -10.376     3427  2001   \n",
      "\n",
      "      precipitaciones Dia precipitaciones Noche temperatura Dia  \\\n",
      "1                   102,8                  96,8              18   \n",
      "2                    98,1                 161,5              21   \n",
      "3                    71,2                  83,2              17   \n",
      "4                   181,9                 319,6              29   \n",
      "5                   102,8                  96,8              31   \n",
      "...                   ...                   ...             ...   \n",
      "20583                51,4                   0,4              19   \n",
      "20584                51,4                   0,4              20   \n",
      "20585               329,6                 172,7              33   \n",
      "20586               329,6                 172,7              18   \n",
      "20587               350,9                  60,4              29   \n",
      "\n",
      "       temperatura Noche  H. del Suelo Dia  H. del Suelo Noche  \\\n",
      "1                     24                26                  37   \n",
      "2                     17                12                  25   \n",
      "3                     17                20                  28   \n",
      "4                     20                20                  29   \n",
      "5                     21                26                  35   \n",
      "...                  ...               ...                 ...   \n",
      "20583                 20                26                  37   \n",
      "20584                 19                15                  47   \n",
      "20585                 19                27                  45   \n",
      "20586                 23                24                  53   \n",
      "20587                 16                12                  29   \n",
      "\n",
      "      Evapotranspiracion Dia Evapotranspiracion Noche  \\\n",
      "1                        1,9                     44,1   \n",
      "2                       37,1                     17,6   \n",
      "3                        5,9                    104,8   \n",
      "4                        2,9                     36,8   \n",
      "5                       19,7                     43,8   \n",
      "...                      ...                      ...   \n",
      "20583                    1,5                      1,2   \n",
      "20584                    1,5                      1,2   \n",
      "20585                    1,5                      1,2   \n",
      "20586                    1,5                      1,2   \n",
      "20587                    1,5                      0,5   \n",
      "\n",
      "      Velocidad del Viento Dia Velocidad del Viento Noche radiacion Solar  \n",
      "1                        120,9                      179,8             5,8  \n",
      "2                        131,6                       62,6             5,7  \n",
      "3                        182,1                         89             5,5  \n",
      "4                         28,3                      137,5               6  \n",
      "5                         13,8                      125,2             5,7  \n",
      "...                        ...                        ...             ...  \n",
      "20583                     11,4                       30,5               6  \n",
      "20584                     11,4                       30,5             5,7  \n",
      "20585                     11,4                       30,5             5,8  \n",
      "20586                     11,4                        139             5,9  \n",
      "20587                      7,3                        3,4             6,1  \n",
      "\n",
      "[20587 rows x 17 columns]\n"
     ]
    }
   ],
   "source": [
    "from sklearn import preprocessing\n",
    "le = preprocessing.LabelEncoder()\n",
    "df['Estacion'] = le.fit_transform(df['Estacion'])\n",
    "\n",
    "print(df)"
   ]
  },
  {
   "cell_type": "code",
   "execution_count": 100,
   "metadata": {},
   "outputs": [
    {
     "name": "stdout",
     "output_type": "stream",
     "text": [
      "Id                              int64\n",
      "Estacion                        int64\n",
      "longitud2                     float64\n",
      "latitud2                      float64\n",
      "altitud                         int64\n",
      "anio                            int64\n",
      "precipitaciones Dia           float64\n",
      "precipitaciones Noche         float64\n",
      "temperatura Dia               float64\n",
      "temperatura Noche               int64\n",
      "H. del Suelo Dia                int64\n",
      "H. del Suelo Noche              int64\n",
      "Evapotranspiracion Dia        float64\n",
      "Evapotranspiracion Noche      float64\n",
      "Velocidad del Viento Dia      float64\n",
      "Velocidad del Viento Noche    float64\n",
      "radiacion Solar               float64\n",
      "dtype: object\n"
     ]
    }
   ],
   "source": [
    "# Convertir columnas object (que representan números con coma) a float\n",
    "for col in df.select_dtypes(include='object').columns:\n",
    "    df[col] = df[col].str.replace(',', '.').astype(float)\n",
    "\n",
    "# Verificar que se hizo correctamente\n",
    "print(df.dtypes)\n"
   ]
  },
  {
   "cell_type": "code",
   "execution_count": 101,
   "metadata": {},
   "outputs": [
    {
     "name": "stdout",
     "output_type": "stream",
     "text": [
      " Información general:\n",
      "<class 'pandas.core.frame.DataFrame'>\n",
      "Index: 20587 entries, 1 to 20587\n",
      "Data columns (total 17 columns):\n",
      " #   Column                      Non-Null Count  Dtype  \n",
      "---  ------                      --------------  -----  \n",
      " 0   Id                          20587 non-null  int64  \n",
      " 1   Estacion                    20587 non-null  int64  \n",
      " 2   longitud2                   20587 non-null  float64\n",
      " 3   latitud2                    20587 non-null  float64\n",
      " 4   altitud                     20587 non-null  int64  \n",
      " 5   anio                        20587 non-null  int64  \n",
      " 6   precipitaciones Dia         20587 non-null  float64\n",
      " 7   precipitaciones Noche       20587 non-null  float64\n",
      " 8   temperatura Dia             20587 non-null  float64\n",
      " 9   temperatura Noche           20587 non-null  int64  \n",
      " 10  H. del Suelo Dia            20587 non-null  int64  \n",
      " 11  H. del Suelo Noche          20587 non-null  int64  \n",
      " 12  Evapotranspiracion Dia      20587 non-null  float64\n",
      " 13  Evapotranspiracion Noche    20587 non-null  float64\n",
      " 14  Velocidad del Viento Dia    20587 non-null  float64\n",
      " 15  Velocidad del Viento Noche  20587 non-null  float64\n",
      " 16  radiacion Solar             20587 non-null  float64\n",
      "dtypes: float64(10), int64(7)\n",
      "memory usage: 2.8 MB\n",
      "None\n"
     ]
    }
   ],
   "source": [
    "# Mostrar info general\n",
    "print(\" Información general:\")\n",
    "print(df.info())"
   ]
  },
  {
   "cell_type": "code",
   "execution_count": 102,
   "metadata": {},
   "outputs": [
    {
     "name": "stdout",
     "output_type": "stream",
     "text": [
      "Filas con 0 en temperatura o evapotranspiración: 5160\n",
      "Nuevo tamaño del DataFrame: (15427, 17)\n"
     ]
    }
   ],
   "source": [
    "# Lista de columnas a revisar\n",
    "cols_revisar = [\n",
    "    \"temperatura Dia\", \"temperatura Noche\",\n",
    "    \"Evapotranspiracion Dia\", \"Evapotranspiracion Noche\"\n",
    "]\n",
    "\n",
    "# Mostrar cuántas filas tienen al menos un 0 en esas columnas\n",
    "print(\"Filas con 0 en temperatura o evapotranspiración:\", (df[cols_revisar] == 0).any(axis=1).sum())\n",
    "\n",
    "# Eliminar esas filas\n",
    "df = df[~(df[cols_revisar] == 0).any(axis=1)]\n",
    "\n",
    "# Verificar nuevo tamaño del DataFrame\n",
    "print(\"Nuevo tamaño del DataFrame:\", df.shape)\n",
    "\n"
   ]
  },
  {
   "cell_type": "code",
   "execution_count": 103,
   "metadata": {},
   "outputs": [],
   "source": [
    "# Exportar a CSV\n",
    "df.to_csv('inhami_transformed.csv', index=False, sep=';')  # index=False para no guardar el índice"
   ]
  }
 ],
 "metadata": {
  "kernelspec": {
   "display_name": "Python 3",
   "language": "python",
   "name": "python3"
  },
  "language_info": {
   "codemirror_mode": {
    "name": "ipython",
    "version": 3
   },
   "file_extension": ".py",
   "mimetype": "text/x-python",
   "name": "python",
   "nbconvert_exporter": "python",
   "pygments_lexer": "ipython3",
   "version": "3.11.9"
  }
 },
 "nbformat": 4,
 "nbformat_minor": 2
}
