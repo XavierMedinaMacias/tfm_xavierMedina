{
 "cells": [
  {
   "cell_type": "markdown",
   "metadata": {},
   "source": [
    "### CARGA DE DATASET ###\n",
    "\n",
    "\n"
   ]
  },
  {
   "cell_type": "code",
   "execution_count": 182,
   "metadata": {},
   "outputs": [
    {
     "name": "stdout",
     "output_type": "stream",
     "text": [
      "          Id   Provincia           Estacion  longitud2  latitud2  altitud  \\\n",
      "0          1  PORTOVIEJO             Picoza   -804.596   -10.376     3140   \n",
      "1          2  PORTOVIEJO             Picoza   -804.596   -10.376     3140   \n",
      "2          3  PORTOVIEJO        12 de Marzo   -804.596   -10.376     3140   \n",
      "3          4  PORTOVIEJO          San Pablo   -804.596   -10.376     3140   \n",
      "4          5  PORTOVIEJO  Francisco Pacheco   -804.596   -10.376     3140   \n",
      "...      ...         ...                ...        ...       ...      ...   \n",
      "20583  20584  PORTOVIEJO        12 de Marzo   -804.596   -10.376     1955   \n",
      "20584  20585  PORTOVIEJO      18 de Octubre   -804.596   -10.376       21   \n",
      "20585  20586  PORTOVIEJO  Francisco Pacheco   -804.596   -10.376       21   \n",
      "20586  20587  PORTOVIEJO  Francisco Pacheco   -804.596   -10.376     2886   \n",
      "20587  20588  PORTOVIEJO  Francisco Pacheco   -804.596   -10.376     3427   \n",
      "\n",
      "       anio    ene    feb    mar    abr    may   jun   jul    ago    sep  \\\n",
      "0      1964    NaN   81,9    NaN    NaN    NaN   NaN   NaN    NaN    NaN   \n",
      "1      1977    NaN    NaN    NaN    NaN    NaN    61   1,9   44,1  120,9   \n",
      "2      1978   98,1  161,5  107,7  196,6  115,6  12,4  37,1   17,6  131,6   \n",
      "3      1979   71,2   83,2  307,1    139  252,8  40,5   5,9  104,8  182,1   \n",
      "4      1980  181,9  319,6  101,1  227,6     27  39,3   2,9   36,8   28,3   \n",
      "...     ...    ...    ...    ...    ...    ...   ...   ...    ...    ...   \n",
      "20583  2016   51,4    0,4   31,9   72,8   40,9  22,2   1,5    1,2   11,4   \n",
      "20584  2015    NaN    NaN    NaN    NaN    NaN   NaN   NaN    NaN    NaN   \n",
      "20585  2016  329,6  172,7  358,2  153,3    0,3     0   NaN    NaN    NaN   \n",
      "20586  2017    NaN    NaN    NaN    NaN    NaN   NaN   NaN    NaN    NaN   \n",
      "20587  2001  350,9   60,4    NaN   63,1   31,4   1,8   NaN    0,5    7,3   \n",
      "\n",
      "         oct    nov    dic  \n",
      "0        NaN    NaN    NaN  \n",
      "1      179,8   96,2  165,9  \n",
      "2       62,6  107,5  133,4  \n",
      "3         89   57,1   27,1  \n",
      "4      137,5  120,6    183  \n",
      "...      ...    ...    ...  \n",
      "20583   30,5   46,4   34,6  \n",
      "20584    NaN    NaN    5,7  \n",
      "20585    NaN    NaN    NaN  \n",
      "20586    139   66,2   92,6  \n",
      "20587    3,4    NaN    NaN  \n",
      "\n",
      "[20588 rows x 19 columns]\n"
     ]
    }
   ],
   "source": [
    "import pandas as pd\n",
    "df_precipitaciones = pd.read_csv(r\"C:\\Users\\pc\\Documents\\GitHub\\tfm_xavierMedina\\spark\\outputs\\part-00000-36d30116-2c3c-4f06-add1-921e1f73060d-c000.csv\", delimiter=\";\")\n",
    "print(df_precipitaciones)\n"
   ]
  },
  {
   "cell_type": "code",
   "execution_count": 183,
   "metadata": {},
   "outputs": [
    {
     "name": "stdout",
     "output_type": "stream",
     "text": [
      "        Id   Provincia           Estacion longitud2 latitud2  altitud  anio  \\\n",
      "0        1  PORTOVIEJO             Picoza  -80,4596  -1,0376     3140  1978   \n",
      "1        2  PORTOVIEJO             Picoza  -80,4596  -1,0376     3140  1979   \n",
      "2        3  PORTOVIEJO        12 de Marzo  -80,4596  -1,0376     3140  1980   \n",
      "3        4  PORTOVIEJO          San Pablo  -80,4596  -1,0376     3140  1981   \n",
      "4        5  PORTOVIEJO  Francisco Pacheco  -80,4596  -1,0376     3140  1982   \n",
      "...    ...         ...                ...       ...      ...      ...   ...   \n",
      "6493  6494  PORTOVIEJO              Colon  -80,4596  -1,0376     1955  2016   \n",
      "6494  6495  PORTOVIEJO          San Pablo  -80,4596  -1,0376       21  2015   \n",
      "6495  6496  PORTOVIEJO          San Pablo  -80,4596  -1,0376       21  2016   \n",
      "6496  6497  PORTOVIEJO     Andres de Vera  -80,4596  -1,0376     2886  2017   \n",
      "6497  6498  PORTOVIEJO         Portoviejo  -80,4596  -1,0376     3427  2001   \n",
      "\n",
      "       ene   feb   mar   abr   may   jun   jul   ago   sep   oct   nov   dic  \n",
      "0       10  10,8  10,2  10,3  10,2   9,5   9,2   9,3   9,7   9,6  11,3  10,2  \n",
      "1     10,3  10,3  10,3  10,4  10,3    10   9,6   9,5  10,2  10,3  10,3  10,3  \n",
      "2     10,6    10  10,4  10,5  10,5  10,1   9,7   9,6  10,4  10,3  10,4  10,3  \n",
      "3     10,3  10,5  10,5  10,6  10,3   9,9   9,3   9,7    10  10,5  10,1  10,3  \n",
      "4      9,9  10,4  10,3  10,4  10,4  10,2   9,4   9,5  10,1    10  10,7  10,7  \n",
      "...    ...   ...   ...   ...   ...   ...   ...   ...   ...   ...   ...   ...  \n",
      "6493  19,1    20  19,5  19,5  20,1  19,2  19,2  20,4  19,7    19  18,6  18,1  \n",
      "6494   NaN   NaN   NaN   NaN   NaN   NaN   NaN   NaN   NaN   NaN   NaN  28,4  \n",
      "6495  27,3  27,6  27,8  27,6  28,5  27,4   NaN   NaN   NaN   NaN   NaN   NaN  \n",
      "6496   NaN   NaN   NaN   NaN   NaN   NaN   NaN   NaN   NaN  14,3  13,5  13,9  \n",
      "6497  23,3   NaN   NaN  24,4  23,5  23,3   NaN  23,8    23  23,6   NaN   NaN  \n",
      "\n",
      "[6498 rows x 19 columns]\n"
     ]
    }
   ],
   "source": [
    "df_temperatura = pd.read_csv(r\"C:\\Users\\pc\\Documents\\GitHub\\tfm_xavierMedina\\spark\\outputs\\part-00000-0058d45d-c76e-4044-bc49-bd4847e15259-c000.csv\", delimiter=\";\")\n",
    "print(df_temperatura)"
   ]
  },
  {
   "cell_type": "markdown",
   "metadata": {},
   "source": [
    "### IDENTIFICACION DE VALORES NULOS ###"
   ]
  },
  {
   "cell_type": "code",
   "execution_count": 184,
   "metadata": {},
   "outputs": [
    {
     "data": {
      "text/plain": [
       "Id              0\n",
       "Provincia       0\n",
       "Estacion        0\n",
       "longitud2       0\n",
       "latitud2        0\n",
       "altitud         0\n",
       "anio            0\n",
       "ene          2275\n",
       "feb          2374\n",
       "mar          2282\n",
       "abr          2380\n",
       "may          2366\n",
       "jun          2452\n",
       "jul          2482\n",
       "ago          2458\n",
       "sep          2504\n",
       "oct          2474\n",
       "nov          2584\n",
       "dic          2539\n",
       "dtype: int64"
      ]
     },
     "execution_count": 184,
     "metadata": {},
     "output_type": "execute_result"
    }
   ],
   "source": [
    "# EJEMPLO: Contar valores perdidos\n",
    "df_precipitaciones.isnull().sum()\n"
   ]
  },
  {
   "cell_type": "code",
   "execution_count": 185,
   "metadata": {},
   "outputs": [
    {
     "data": {
      "text/plain": [
       "Id              0\n",
       "Provincia       0\n",
       "Estacion        0\n",
       "longitud2       0\n",
       "latitud2        0\n",
       "altitud         0\n",
       "anio            0\n",
       "ene           695\n",
       "feb           785\n",
       "mar           748\n",
       "abr           759\n",
       "may           716\n",
       "jun           801\n",
       "jul           831\n",
       "ago           896\n",
       "sep           936\n",
       "oct           984\n",
       "nov          1041\n",
       "dic          1065\n",
       "dtype: int64"
      ]
     },
     "execution_count": 185,
     "metadata": {},
     "output_type": "execute_result"
    }
   ],
   "source": [
    "df_temperatura.isnull().sum()"
   ]
  },
  {
   "cell_type": "markdown",
   "metadata": {},
   "source": [
    "### COMPLETAR VALORES NULOS ###"
   ]
  },
  {
   "cell_type": "code",
   "execution_count": 186,
   "metadata": {},
   "outputs": [
    {
     "name": "stderr",
     "output_type": "stream",
     "text": [
      "C:\\Users\\pc\\AppData\\Local\\Temp\\ipykernel_30064\\1504018092.py:2: FutureWarning: DataFrame.fillna with 'method' is deprecated and will raise in a future version. Use obj.ffill() or obj.bfill() instead.\n",
      "  df_precipitaciones.fillna(method='ffill', inplace=True)\n"
     ]
    },
    {
     "data": {
      "text/plain": [
       "Id           False\n",
       "Provincia    False\n",
       "Estacion     False\n",
       "longitud2    False\n",
       "latitud2     False\n",
       "altitud      False\n",
       "anio         False\n",
       "ene           True\n",
       "feb          False\n",
       "mar           True\n",
       "abr           True\n",
       "may           True\n",
       "jun           True\n",
       "jul           True\n",
       "ago           True\n",
       "sep           True\n",
       "oct           True\n",
       "nov           True\n",
       "dic           True\n",
       "dtype: bool"
      ]
     },
     "execution_count": 186,
     "metadata": {},
     "output_type": "execute_result"
    }
   ],
   "source": [
    "# EJEMPLO: Completar valores perdidos con método ffill\n",
    "df_precipitaciones.fillna(method='ffill', inplace=True)\n",
    "pd.isnull(df_precipitaciones).any()"
   ]
  },
  {
   "cell_type": "code",
   "execution_count": 187,
   "metadata": {},
   "outputs": [
    {
     "name": "stderr",
     "output_type": "stream",
     "text": [
      "C:\\Users\\pc\\AppData\\Local\\Temp\\ipykernel_30064\\1470193777.py:2: FutureWarning: DataFrame.fillna with 'method' is deprecated and will raise in a future version. Use obj.ffill() or obj.bfill() instead.\n",
      "  df_temperatura.fillna(method='ffill', inplace=True)\n"
     ]
    },
    {
     "data": {
      "text/plain": [
       "Id           False\n",
       "Provincia    False\n",
       "Estacion     False\n",
       "longitud2    False\n",
       "latitud2     False\n",
       "altitud      False\n",
       "anio         False\n",
       "ene          False\n",
       "feb          False\n",
       "mar          False\n",
       "abr          False\n",
       "may          False\n",
       "jun          False\n",
       "jul          False\n",
       "ago          False\n",
       "sep          False\n",
       "oct          False\n",
       "nov          False\n",
       "dic          False\n",
       "dtype: bool"
      ]
     },
     "execution_count": 187,
     "metadata": {},
     "output_type": "execute_result"
    }
   ],
   "source": [
    "# EJEMPLO: Completar valores perdidos con método ffill\n",
    "df_temperatura.fillna(method='ffill', inplace=True)\n",
    "pd.isnull(df_temperatura).any()"
   ]
  },
  {
   "cell_type": "markdown",
   "metadata": {},
   "source": [
    "### VERIFICACION DE SI EXISTEN VALORES NULOS NUEVAMENTE ###"
   ]
  },
  {
   "cell_type": "code",
   "execution_count": 188,
   "metadata": {},
   "outputs": [
    {
     "data": {
      "text/plain": [
       "Id           0\n",
       "Provincia    0\n",
       "Estacion     0\n",
       "longitud2    0\n",
       "latitud2     0\n",
       "altitud      0\n",
       "anio         0\n",
       "ene          2\n",
       "feb          0\n",
       "mar          2\n",
       "abr          2\n",
       "may          2\n",
       "jun          1\n",
       "jul          1\n",
       "ago          1\n",
       "sep          1\n",
       "oct          1\n",
       "nov          1\n",
       "dic          1\n",
       "dtype: int64"
      ]
     },
     "execution_count": 188,
     "metadata": {},
     "output_type": "execute_result"
    }
   ],
   "source": [
    "\n",
    "# EJEMPLO: Contar valores perdidos\n",
    "df_precipitaciones.isnull().sum()"
   ]
  },
  {
   "cell_type": "code",
   "execution_count": 189,
   "metadata": {},
   "outputs": [
    {
     "data": {
      "text/plain": [
       "Id           0\n",
       "Provincia    0\n",
       "Estacion     0\n",
       "longitud2    0\n",
       "latitud2     0\n",
       "altitud      0\n",
       "anio         0\n",
       "ene          0\n",
       "feb          0\n",
       "mar          0\n",
       "abr          0\n",
       "may          0\n",
       "jun          0\n",
       "jul          0\n",
       "ago          0\n",
       "sep          0\n",
       "oct          0\n",
       "nov          0\n",
       "dic          0\n",
       "dtype: int64"
      ]
     },
     "execution_count": 189,
     "metadata": {},
     "output_type": "execute_result"
    }
   ],
   "source": [
    "# EJEMPLO: Contar valores perdidos\n",
    "df_temperatura.isnull().sum()"
   ]
  },
  {
   "cell_type": "markdown",
   "metadata": {},
   "source": [
    "### TRANSFORMAR VARIABLES CATEGORICAS\n"
   ]
  },
  {
   "cell_type": "code",
   "execution_count": 190,
   "metadata": {},
   "outputs": [
    {
     "name": "stdout",
     "output_type": "stream",
     "text": [
      "        Id   Provincia  Estacion longitud2 latitud2  altitud  anio   ene  \\\n",
      "0        1  PORTOVIEJO         5  -80,4596  -1,0376     3140  1978    10   \n",
      "1        2  PORTOVIEJO         5  -80,4596  -1,0376     3140  1979  10,3   \n",
      "2        3  PORTOVIEJO         0  -80,4596  -1,0376     3140  1980  10,6   \n",
      "3        4  PORTOVIEJO         7  -80,4596  -1,0376     3140  1981  10,3   \n",
      "4        5  PORTOVIEJO         4  -80,4596  -1,0376     3140  1982   9,9   \n",
      "...    ...         ...       ...       ...      ...      ...   ...   ...   \n",
      "6493  6494  PORTOVIEJO         3  -80,4596  -1,0376     1955  2016  19,1   \n",
      "6494  6495  PORTOVIEJO         7  -80,4596  -1,0376       21  2015  19,1   \n",
      "6495  6496  PORTOVIEJO         7  -80,4596  -1,0376       21  2016  27,3   \n",
      "6496  6497  PORTOVIEJO         2  -80,4596  -1,0376     2886  2017  27,3   \n",
      "6497  6498  PORTOVIEJO         6  -80,4596  -1,0376     3427  2001  23,3   \n",
      "\n",
      "       feb   mar   abr   may   jun   jul   ago   sep   oct   nov   dic  \n",
      "0     10,8  10,2  10,3  10,2   9,5   9,2   9,3   9,7   9,6  11,3  10,2  \n",
      "1     10,3  10,3  10,4  10,3    10   9,6   9,5  10,2  10,3  10,3  10,3  \n",
      "2       10  10,4  10,5  10,5  10,1   9,7   9,6  10,4  10,3  10,4  10,3  \n",
      "3     10,5  10,5  10,6  10,3   9,9   9,3   9,7    10  10,5  10,1  10,3  \n",
      "4     10,4  10,3  10,4  10,4  10,2   9,4   9,5  10,1    10  10,7  10,7  \n",
      "...    ...   ...   ...   ...   ...   ...   ...   ...   ...   ...   ...  \n",
      "6493    20  19,5  19,5  20,1  19,2  19,2  20,4  19,7    19  18,6  18,1  \n",
      "6494    20  19,5  19,5  20,1  19,2  19,2  20,4  19,7    19  18,6  28,4  \n",
      "6495  27,6  27,8  27,6  28,5  27,4  19,2  20,4  19,7    19  18,6  28,4  \n",
      "6496  27,6  27,8  27,6  28,5  27,4  19,2  20,4  19,7  14,3  13,5  13,9  \n",
      "6497  27,6  27,8  24,4  23,5  23,3  19,2  23,8    23  23,6  13,5  13,9  \n",
      "\n",
      "[6498 rows x 19 columns]\n"
     ]
    }
   ],
   "source": [
    "from sklearn import preprocessing\n",
    "le = preprocessing.LabelEncoder()\n",
    "df_temperatura['Estacion'] = le.fit_transform(df_temperatura['Estacion'])\n",
    "\n",
    "print(df_temperatura)"
   ]
  },
  {
   "cell_type": "code",
   "execution_count": 191,
   "metadata": {},
   "outputs": [
    {
     "name": "stdout",
     "output_type": "stream",
     "text": [
      "          Id   Provincia  Estacion  longitud2  latitud2  altitud  anio    ene  \\\n",
      "0          1  PORTOVIEJO         5   -804.596   -10.376     3140  1964    NaN   \n",
      "1          2  PORTOVIEJO         5   -804.596   -10.376     3140  1977    NaN   \n",
      "2          3  PORTOVIEJO         0   -804.596   -10.376     3140  1978   98,1   \n",
      "3          4  PORTOVIEJO         7   -804.596   -10.376     3140  1979   71,2   \n",
      "4          5  PORTOVIEJO         4   -804.596   -10.376     3140  1980  181,9   \n",
      "...      ...         ...       ...        ...       ...      ...   ...    ...   \n",
      "20583  20584  PORTOVIEJO         0   -804.596   -10.376     1955  2016   51,4   \n",
      "20584  20585  PORTOVIEJO         1   -804.596   -10.376       21  2015   51,4   \n",
      "20585  20586  PORTOVIEJO         4   -804.596   -10.376       21  2016  329,6   \n",
      "20586  20587  PORTOVIEJO         4   -804.596   -10.376     2886  2017  329,6   \n",
      "20587  20588  PORTOVIEJO         4   -804.596   -10.376     3427  2001  350,9   \n",
      "\n",
      "         feb    mar    abr    may   jun   jul    ago    sep    oct    nov  \\\n",
      "0       81,9    NaN    NaN    NaN   NaN   NaN    NaN    NaN    NaN    NaN   \n",
      "1       81,9    NaN    NaN    NaN    61   1,9   44,1  120,9  179,8   96,2   \n",
      "2      161,5  107,7  196,6  115,6  12,4  37,1   17,6  131,6   62,6  107,5   \n",
      "3       83,2  307,1    139  252,8  40,5   5,9  104,8  182,1     89   57,1   \n",
      "4      319,6  101,1  227,6     27  39,3   2,9   36,8   28,3  137,5  120,6   \n",
      "...      ...    ...    ...    ...   ...   ...    ...    ...    ...    ...   \n",
      "20583    0,4   31,9   72,8   40,9  22,2   1,5    1,2   11,4   30,5   46,4   \n",
      "20584    0,4   31,9   72,8   40,9  22,2   1,5    1,2   11,4   30,5   46,4   \n",
      "20585  172,7  358,2  153,3    0,3     0   1,5    1,2   11,4   30,5   46,4   \n",
      "20586  172,7  358,2  153,3    0,3     0   1,5    1,2   11,4    139   66,2   \n",
      "20587   60,4  358,2   63,1   31,4   1,8   1,5    0,5    7,3    3,4   66,2   \n",
      "\n",
      "         dic  \n",
      "0        NaN  \n",
      "1      165,9  \n",
      "2      133,4  \n",
      "3       27,1  \n",
      "4        183  \n",
      "...      ...  \n",
      "20583   34,6  \n",
      "20584    5,7  \n",
      "20585    5,7  \n",
      "20586   92,6  \n",
      "20587   92,6  \n",
      "\n",
      "[20588 rows x 19 columns]\n"
     ]
    }
   ],
   "source": [
    "from sklearn import preprocessing\n",
    "le = preprocessing.LabelEncoder()\n",
    "df_precipitaciones['Estacion'] = le.fit_transform(df_precipitaciones['Estacion'])\n",
    "\n",
    "print(df_precipitaciones)   "
   ]
  }
 ],
 "metadata": {
  "kernelspec": {
   "display_name": "Python 3",
   "language": "python",
   "name": "python3"
  },
  "language_info": {
   "codemirror_mode": {
    "name": "ipython",
    "version": 3
   },
   "file_extension": ".py",
   "mimetype": "text/x-python",
   "name": "python",
   "nbconvert_exporter": "python",
   "pygments_lexer": "ipython3",
   "version": "3.11.9"
  }
 },
 "nbformat": 4,
 "nbformat_minor": 2
}
